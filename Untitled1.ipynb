{
 "cells": [
  {
   "cell_type": "code",
   "execution_count": 2,
   "metadata": {},
   "outputs": [],
   "source": [
    "import pyautogui as ag\n",
    "import cv2\n",
    "import numpy as np"
   ]
  },
  {
   "cell_type": "code",
   "execution_count": 3,
   "metadata": {},
   "outputs": [],
   "source": [
    "ag.scroll(10)"
   ]
  },
  {
   "cell_type": "code",
   "execution_count": 11,
   "metadata": {},
   "outputs": [
    {
     "ename": "NameError",
     "evalue": "name 'img' is not defined",
     "output_type": "error",
     "traceback": [
      "\u001b[1;31m---------------------------------------------------------------------------\u001b[0m",
      "\u001b[1;31mNameError\u001b[0m                                 Traceback (most recent call last)",
      "\u001b[1;32m<ipython-input-11-e49cb745f53f>\u001b[0m in \u001b[0;36m<module>\u001b[1;34m\u001b[0m\n\u001b[0;32m     34\u001b[0m \u001b[1;33m\u001b[0m\u001b[0m\n\u001b[0;32m     35\u001b[0m \u001b[1;33m\u001b[0m\u001b[0m\n\u001b[1;32m---> 36\u001b[1;33m         \u001b[0mcv2\u001b[0m\u001b[1;33m.\u001b[0m\u001b[0mimshow\u001b[0m\u001b[1;33m(\u001b[0m\u001b[1;34m'contour'\u001b[0m\u001b[1;33m,\u001b[0m \u001b[0mimg\u001b[0m\u001b[1;33m)\u001b[0m\u001b[1;33m\u001b[0m\u001b[1;33m\u001b[0m\u001b[0m\n\u001b[0m\u001b[0;32m     37\u001b[0m         \u001b[0mcv2\u001b[0m\u001b[1;33m.\u001b[0m\u001b[0mimshow\u001b[0m\u001b[1;33m(\u001b[0m\u001b[1;34m'blur'\u001b[0m\u001b[1;33m,\u001b[0m \u001b[0mbinary\u001b[0m\u001b[1;33m)\u001b[0m\u001b[1;33m\u001b[0m\u001b[1;33m\u001b[0m\u001b[0m\n\u001b[0;32m     38\u001b[0m \u001b[1;33m\u001b[0m\u001b[0m\n",
      "\u001b[1;31mNameError\u001b[0m: name 'img' is not defined"
     ]
    }
   ],
   "source": [
    "cap = cv2.VideoCapture(0)\n",
    "\n",
    "cap.set(3,600)\n",
    "cap.set(4,800)\n",
    "\n",
    "lower_blueA1 = np.array([0, 133, 77])\n",
    "upper_blueA1 = np.array([255, 173, 127])\n",
    "        \n",
    "while(True):\n",
    "    # ret : frame capture결과(boolean)\n",
    "    # frame : Capture한 frame\n",
    "    ret, frame = cap.read()\n",
    "\n",
    "    if (ret):\n",
    "        \n",
    "        # 색상채널 변환\n",
    "        ycc = cv2.cvtColor(frame, cv2.COLOR_BGR2YCR_CB)\n",
    "        \n",
    "        # 색상 걸러낼 마스크 정의\n",
    "        img_mask = cv2.inRange(ycc, lower_blueA1, upper_blueA1)\n",
    "        \n",
    "        # 손 검출\n",
    "        img_result = cv2.bitwise_and(ycc, ycc, mask = img_mask)\n",
    "        \n",
    "        # 손이 분리되면 그 상태로 gray scale 변환\n",
    "        gray = cv2.cvtColor(img_result, cv2.COLOR_BGR2GRAY)\n",
    "        \n",
    "        # binary 로 다시 변환\n",
    "        ret, binary = cv2.threshold(gray, 100, 255, cv2.THRESH_OTSU)\n",
    "        \n",
    "        # 노이즈 제거\n",
    "        binary = cv2.GaussianBlur(binary, (11, 11), 0)\n",
    "        \n",
    "      \n",
    "        \n",
    "        cv2.imshow('contour', img)\n",
    "        cv2.imshow('blur', binary)\n",
    "        \n",
    "        if cv2.waitKey(1) & 0xFF == ord('q'):\n",
    "            break\n",
    "\n",
    "cap.release()\n",
    "cv2.destroyAllWindows()"
   ]
  },
  {
   "cell_type": "code",
   "execution_count": 1,
   "metadata": {},
   "outputs": [
    {
     "name": "stderr",
     "output_type": "stream",
     "text": [
      "usage: ipykernel_launcher.py [-h] [--input INPUT]\n",
      "ipykernel_launcher.py: error: unrecognized arguments: -f C:\\Users\\김민수\\AppData\\Roaming\\jupyter\\runtime\\kernel-dce65682-d657-484a-a935-438cfaff2d4a.json\n"
     ]
    },
    {
     "ename": "SystemExit",
     "evalue": "2",
     "output_type": "error",
     "traceback": [
      "An exception has occurred, use %tb to see the full traceback.\n",
      "\u001b[1;31mSystemExit\u001b[0m\u001b[1;31m:\u001b[0m 2\n"
     ]
    },
    {
     "name": "stderr",
     "output_type": "stream",
     "text": [
      "C:\\Anaconda\\lib\\site-packages\\IPython\\core\\interactiveshell.py:3304: UserWarning: To exit: use 'exit', 'quit', or Ctrl-D.\n",
      "  warn(\"To exit: use 'exit', 'quit', or Ctrl-D.\", stacklevel=1)\n"
     ]
    }
   ],
   "source": [
    "from __future__ import print_function\n",
    "import cv2 as cv\n",
    "import numpy as np\n",
    "import argparse\n",
    "import random as rng\n",
    "rng.seed(12345)\n",
    "def thresh_callback(val):\n",
    "    threshold = val\n",
    "    # Detect edges using Canny\n",
    "    canny_output = cv.Canny(src_gray, threshold, threshold * 2)\n",
    "    # Find contours\n",
    "    _, contours, _ = cv.findContours(canny_output, cv.RETR_TREE, cv.CHAIN_APPROX_SIMPLE)\n",
    "    # Find the convex hull object for each contour\n",
    "    hull_list = []\n",
    "    for i in range(len(contours)):\n",
    "        hull = cv.convexHull(contours[i])\n",
    "        hull_list.append(hull)\n",
    "    # Draw contours + hull results\n",
    "    drawing = np.zeros((canny_output.shape[0], canny_output.shape[1], 3), dtype=np.uint8)\n",
    "    for i in range(len(contours)):\n",
    "        color = (rng.randint(0,256), rng.randint(0,256), rng.randint(0,256))\n",
    "        cv.drawContours(drawing, contours, i, color)\n",
    "        cv.drawContours(drawing, hull_list, i, color)\n",
    "    # Show in a window\n",
    "    cv.imshow('Contours', drawing)\n",
    "# Load source image\n",
    "parser = argparse.ArgumentParser(description='Code for Convex Hull tutorial.')\n",
    "parser.add_argument('--input', help='Path to input image.', default='stuff.jpg')\n",
    "args = parser.parse_args()\n",
    "src = cv.imread(cv.samples.findFile(args.input))\n",
    "if src is None:\n",
    "    print('Could not open or find the image:', args.input)\n",
    "    exit(0)\n",
    "# Convert image to gray and blur it\n",
    "src_gray = cv.cvtColor(src, cv.COLOR_BGR2GRAY)\n",
    "src_gray = cv.blur(src_gray, (3,3))\n",
    "# Create Window\n",
    "source_window = 'Source'\n",
    "cv.namedWindow(source_window)\n",
    "cv.imshow(source_window, src)\n",
    "max_thresh = 255\n",
    "thresh = 100 # initial threshold\n",
    "cv.createTrackbar('Canny thresh:', source_window, thresh, max_thresh, thresh_callback)\n",
    "thresh_callback(thresh)\n",
    "cv.waitKey()"
   ]
  }
 ],
 "metadata": {
  "kernelspec": {
   "display_name": "Python 3",
   "language": "python",
   "name": "python3"
  },
  "language_info": {
   "codemirror_mode": {
    "name": "ipython",
    "version": 3
   },
   "file_extension": ".py",
   "mimetype": "text/x-python",
   "name": "python",
   "nbconvert_exporter": "python",
   "pygments_lexer": "ipython3",
   "version": "3.6.8"
  }
 },
 "nbformat": 4,
 "nbformat_minor": 2
}
