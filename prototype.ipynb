{
 "cells": [
  {
   "cell_type": "markdown",
   "metadata": {},
   "source": [
    "# 프로젝트 prototype\n",
    "---\n",
    "* 'brightness', 'contrast', 'crop', 'horizontal flip', 사이즈 조절\n",
    "* 양 손 조합 이미지\n",
    "\n"
   ]
  },
  {
   "cell_type": "code",
   "execution_count": 55,
   "metadata": {},
   "outputs": [],
   "source": [
    "import cv2\n",
    "import numpy as np\n",
    "import random"
   ]
  },
  {
   "cell_type": "code",
   "execution_count": 10,
   "metadata": {},
   "outputs": [],
   "source": [
    "img = cv2.imread('samples/3.jpg')\n",
    "cv2.imshow('test', img)\n",
    "cv2.waitKey(0)\n",
    "cv2.destroyAllWindows()"
   ]
  },
  {
   "cell_type": "code",
   "execution_count": 54,
   "metadata": {},
   "outputs": [],
   "source": [
    "palm = cv2.imread('samples/palm.jpg', cv2.IMREAD_GRAYSCALE)\n",
    "arrow = cv2.imread('samples/arrow.jpg', cv2.IMREAD_GRAYSCALE)\n",
    "one = cv2.imread('samples/one.jpg', cv2.IMREAD_GRAYSCALE)"
   ]
  },
  {
   "cell_type": "code",
   "execution_count": null,
   "metadata": {},
   "outputs": [],
   "source": [
    "# sample 이미지로부터 변형 이미지 생산.\n",
    "for i in range(100):\n",
    "    temp_palm = cv2.resize(img, (360 + random., 360), interpolation = cv2.INTER_AREA)\n",
    "    "
   ]
  },
  {
   "cell_type": "code",
   "execution_count": 52,
   "metadata": {},
   "outputs": [],
   "source": [
    "resized = cv2.resize(img, (360, 400), interpolation = cv2.INTER_AREA)\n",
    "cv2.imshow('test', resized)\n",
    "#cv2.imwrite('samples/store.jpg', resized)\n",
    "cv2.waitKey(0)\n",
    "cv2.destroyAllWindows()"
   ]
  },
  {
   "cell_type": "code",
   "execution_count": 53,
   "metadata": {},
   "outputs": [],
   "source": [
    "kernel = np.ones((3, 3), np.uint8)\n",
    "eroded = cv2.erode(resized, kernel, iterations = 3)\n",
    "cv2.imshow('test', resized)\n",
    "cv2.imshow('test2', eroded)\n",
    "\n",
    "cv2.waitKey(0)\n",
    "cv2.destroyAllWindows()"
   ]
  },
  {
   "cell_type": "code",
   "execution_count": 57,
   "metadata": {},
   "outputs": [],
   "source": [
    "cap = cv2.VideoCapture(0)\n",
    "\n",
    "cap.set(3,100)\n",
    "cap.set(4,200)\n",
    "\n",
    "while(True):\n",
    "    # ret : frame capture결과(boolean)\n",
    "    # frame : Capture한 frame\n",
    "    ret, frame = cap.read()\n",
    "\n",
    "    if (ret):\n",
    "        # image를 Grayscale로 Convert함.\n",
    "        gray = cv2.cvtColor(frame, cv2.COLOR_BGR2GRAY)\n",
    "\n",
    "        cv2.imshow('frame', gray)\n",
    "        if cv2.waitKey(1) & 0xFF == ord('q'):\n",
    "            break\n",
    "\n",
    "cap.release()\n",
    "cv2.destroyAllWindows()"
   ]
  }
 ],
 "metadata": {
  "kernelspec": {
   "display_name": "Python 3",
   "language": "python",
   "name": "python3"
  },
  "language_info": {
   "codemirror_mode": {
    "name": "ipython",
    "version": 3
   },
   "file_extension": ".py",
   "mimetype": "text/x-python",
   "name": "python",
   "nbconvert_exporter": "python",
   "pygments_lexer": "ipython3",
   "version": "3.6.8"
  }
 },
 "nbformat": 4,
 "nbformat_minor": 2
}
